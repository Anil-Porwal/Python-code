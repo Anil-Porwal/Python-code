{
 "cells": [
  {
   "cell_type": "code",
   "execution_count": 1,
   "id": "948db811",
   "metadata": {},
   "outputs": [
    {
     "name": "stdout",
     "output_type": "stream",
     "text": [
      "0\n"
     ]
    }
   ],
   "source": [
    "print(11&4)"
   ]
  },
  {
   "cell_type": "code",
   "execution_count": 2,
   "id": "53006c19",
   "metadata": {},
   "outputs": [
    {
     "name": "stdout",
     "output_type": "stream",
     "text": [
      "7\n"
     ]
    }
   ],
   "source": [
    "print(15&7)"
   ]
  },
  {
   "cell_type": "code",
   "execution_count": 3,
   "id": "9d90d15d",
   "metadata": {},
   "outputs": [
    {
     "name": "stdout",
     "output_type": "stream",
     "text": [
      "19\n"
     ]
    }
   ],
   "source": [
    "print(27&19)"
   ]
  },
  {
   "cell_type": "code",
   "execution_count": 4,
   "id": "a7cab65c",
   "metadata": {},
   "outputs": [
    {
     "name": "stdout",
     "output_type": "stream",
     "text": [
      "30\n"
     ]
    }
   ],
   "source": [
    "print(22|12)"
   ]
  },
  {
   "cell_type": "code",
   "execution_count": 5,
   "id": "99d4385c",
   "metadata": {},
   "outputs": [
    {
     "name": "stdout",
     "output_type": "stream",
     "text": [
      "127\n"
     ]
    }
   ],
   "source": [
    "print(127|97)"
   ]
  },
  {
   "cell_type": "code",
   "execution_count": 6,
   "id": "f1085253",
   "metadata": {},
   "outputs": [
    {
     "name": "stdout",
     "output_type": "stream",
     "text": [
      "32\n"
     ]
    }
   ],
   "source": [
    "print(8<<2)"
   ]
  },
  {
   "cell_type": "code",
   "execution_count": 7,
   "id": "76a13ba0",
   "metadata": {},
   "outputs": [
    {
     "name": "stdout",
     "output_type": "stream",
     "text": [
      "88\n"
     ]
    }
   ],
   "source": [
    "print(11<<3)"
   ]
  },
  {
   "cell_type": "code",
   "execution_count": 8,
   "id": "ecb78d9e",
   "metadata": {},
   "outputs": [
    {
     "name": "stdout",
     "output_type": "stream",
     "text": [
      "2\n"
     ]
    }
   ],
   "source": [
    "print(8>>2)"
   ]
  },
  {
   "cell_type": "code",
   "execution_count": 9,
   "id": "9397f6de",
   "metadata": {},
   "outputs": [
    {
     "name": "stdout",
     "output_type": "stream",
     "text": [
      "1\n"
     ]
    }
   ],
   "source": [
    "print(11>>3)"
   ]
  },
  {
   "cell_type": "code",
   "execution_count": 10,
   "id": "04be2a92",
   "metadata": {},
   "outputs": [
    {
     "name": "stdout",
     "output_type": "stream",
     "text": [
      "114\n"
     ]
    }
   ],
   "source": [
    "print(457>>2)"
   ]
  },
  {
   "cell_type": "code",
   "execution_count": null,
   "id": "d83632fe",
   "metadata": {},
   "outputs": [],
   "source": []
  }
 ],
 "metadata": {
  "kernelspec": {
   "display_name": "Python 3",
   "language": "python",
   "name": "python3"
  },
  "language_info": {
   "codemirror_mode": {
    "name": "ipython",
    "version": 3
   },
   "file_extension": ".py",
   "mimetype": "text/x-python",
   "name": "python",
   "nbconvert_exporter": "python",
   "pygments_lexer": "ipython3",
   "version": "3.8.8"
  }
 },
 "nbformat": 4,
 "nbformat_minor": 5
}
