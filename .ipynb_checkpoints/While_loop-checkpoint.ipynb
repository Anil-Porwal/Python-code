{
 "cells": [
  {
   "cell_type": "code",
   "execution_count": 1,
   "id": "9f3ae691",
   "metadata": {},
   "outputs": [
    {
     "name": "stdout",
     "output_type": "stream",
     "text": [
      "anil\n",
      "anil\n",
      "anil\n",
      "anil\n",
      "anil\n",
      "anil\n",
      "anil\n",
      "anil\n",
      "anil\n",
      "anil\n"
     ]
    }
   ],
   "source": [
    "# Print your name 10 times.\n",
    "i=1\n",
    "while i<=10:\n",
    "    print(\"anil\")\n",
    "    i+=1"
   ]
  },
  {
   "cell_type": "code",
   "execution_count": 2,
   "id": "33383cd3",
   "metadata": {},
   "outputs": [
    {
     "name": "stdout",
     "output_type": "stream",
     "text": [
      "1\n",
      "2\n",
      "3\n",
      "4\n",
      "5\n",
      "6\n",
      "7\n",
      "8\n",
      "9\n",
      "10\n"
     ]
    }
   ],
   "source": [
    "# print series\n",
    "i=1\n",
    "while i<=10:\n",
    "    print(i)\n",
    "    i+=1"
   ]
  },
  {
   "cell_type": "code",
   "execution_count": 1,
   "id": "03b07d08",
   "metadata": {},
   "outputs": [
    {
     "name": "stdout",
     "output_type": "stream",
     "text": [
      "12345678910"
     ]
    }
   ],
   "source": [
    "# print series\n",
    "i=1\n",
    "while i<=10:\n",
    "    print(i,end='')\n",
    "    i+=1"
   ]
  },
  {
   "cell_type": "code",
   "execution_count": 2,
   "id": "a7956dac",
   "metadata": {},
   "outputs": [
    {
     "name": "stdout",
     "output_type": "stream",
     "text": [
      "1 2 3 4 5 6 7 8 9 10 "
     ]
    }
   ],
   "source": [
    "# print series\n",
    "i=1\n",
    "while i<=10:\n",
    "    print(i,end=' ')\n",
    "    i+=1"
   ]
  },
  {
   "cell_type": "code",
   "execution_count": 3,
   "id": "7fe271af",
   "metadata": {},
   "outputs": [
    {
     "name": "stdout",
     "output_type": "stream",
     "text": [
      "1,2,3,4,5,6,7,8,9,10,"
     ]
    }
   ],
   "source": [
    "i=1\n",
    "while i<=10:\n",
    "    print(i,end=',')\n",
    "    i+=1"
   ]
  },
  {
   "cell_type": "code",
   "execution_count": 6,
   "id": "2b276cb4",
   "metadata": {},
   "outputs": [
    {
     "name": "stdout",
     "output_type": "stream",
     "text": [
      "1,4,9,16,25,36,49,64,81,100,"
     ]
    }
   ],
   "source": [
    "#print series\n",
    "i=1\n",
    "while i<=10:\n",
    "    print(i*i,end=',')\n",
    "    i+=1"
   ]
  },
  {
   "cell_type": "code",
   "execution_count": 10,
   "id": "d8d70af6",
   "metadata": {},
   "outputs": [
    {
     "name": "stdout",
     "output_type": "stream",
     "text": [
      "3,0,1,6,7,4,5,10,11,8,"
     ]
    }
   ],
   "source": [
    "#print series\n",
    "i=1\n",
    "while i<=10:\n",
    "    print(i^2,end=',')# ^ is xor operator.\n",
    "    i+=1"
   ]
  },
  {
   "cell_type": "code",
   "execution_count": 11,
   "id": "c42a792f",
   "metadata": {},
   "outputs": [
    {
     "name": "stdout",
     "output_type": "stream",
     "text": [
      "1,4,9,16,25,36,49,64,81,100,"
     ]
    }
   ],
   "source": [
    "#print series\n",
    "i=1\n",
    "while i<=10:\n",
    "    print(i**2,end=',')\n",
    "    i+=1"
   ]
  },
  {
   "cell_type": "code",
   "execution_count": 9,
   "id": "cce144d3",
   "metadata": {},
   "outputs": [
    {
     "data": {
      "text/plain": [
       "0"
      ]
     },
     "execution_count": 9,
     "metadata": {},
     "output_type": "execute_result"
    }
   ],
   "source": [
    "2^2# xor operator"
   ]
  },
  {
   "cell_type": "code",
   "execution_count": 12,
   "id": "fb34a6de",
   "metadata": {},
   "outputs": [
    {
     "name": "stdout",
     "output_type": "stream",
     "text": [
      "1 / 1,2 / 4,3 / 9,4 / 16,5 / 25,6 / 36,7 / 49,8 / 64,9 / 81,10 / 100,"
     ]
    }
   ],
   "source": [
    "#print series\n",
    "i=1\n",
    "while i<=10:\n",
    "    print(i,\"/\",i*i,end=',')\n",
    "    i+=1"
   ]
  },
  {
   "cell_type": "code",
   "execution_count": 14,
   "id": "fa3b4227",
   "metadata": {},
   "outputs": [
    {
     "name": "stdout",
     "output_type": "stream",
     "text": [
      "1/1 2/4 3/9 4/16 5/25 6/36 7/49 8/64 9/81 10/100 "
     ]
    }
   ],
   "source": [
    "#print series\n",
    "i=1\n",
    "while i<=10:\n",
    "    print(str(i)+\"/\"+str(i*i),end=' ')\n",
    "    i+=1"
   ]
  },
  {
   "cell_type": "code",
   "execution_count": 1,
   "id": "75e77bfc",
   "metadata": {},
   "outputs": [
    {
     "name": "stdout",
     "output_type": "stream",
     "text": [
      "enter a no: 153\n",
      "3 5 1 "
     ]
    }
   ],
   "source": [
    "# write a program to enter a no form user and oprint reverse of it .\n",
    "n=int(input(\"enter a no: \"))\n",
    "while n>0:\n",
    "    r=n%10\n",
    "    print(r,end=' ')\n",
    "    n=n//10"
   ]
  },
  {
   "cell_type": "code",
   "execution_count": 2,
   "id": "359b5f06",
   "metadata": {},
   "outputs": [
    {
     "name": "stdout",
     "output_type": "stream",
     "text": [
      "enter a no: 153\n",
      "9\n"
     ]
    }
   ],
   "source": [
    "# print sum of individual digits.\n",
    "n=int(input(\"enter a no: \"))\n",
    "s=0\n",
    "while n>0:\n",
    "    r=n%10\n",
    "    s=s+r\n",
    "    n=n//10\n",
    "print(s)    "
   ]
  },
  {
   "cell_type": "code",
   "execution_count": 1,
   "id": "8f3e70c4",
   "metadata": {},
   "outputs": [
    {
     "name": "stdout",
     "output_type": "stream",
     "text": [
      "enter a no: 153\n",
      "351\n"
     ]
    }
   ],
   "source": [
    "n=int(input(\"enter a no: \"))\n",
    "s=0\n",
    "while n>0:\n",
    "    r=n%10\n",
    "    s=s*10+r\n",
    "    n=n//10\n",
    "print(s)    "
   ]
  },
  {
   "cell_type": "code",
   "execution_count": 4,
   "id": "19b8447d",
   "metadata": {},
   "outputs": [
    {
     "name": "stdout",
     "output_type": "stream",
     "text": [
      "enter a no 121\n",
      "no is palindrom\n"
     ]
    }
   ],
   "source": [
    "# write a program to enter a no form user and check if it is palindrom or not.\n",
    "n=int(input('enter a no '))\n",
    "s=0\n",
    "tem=n\n",
    "while n>0:\n",
    "    r=n%10\n",
    "    s=s*10+r\n",
    "    n=n//10\n",
    "if s==tem:\n",
    "    print(\"no: is palindrom\")\n",
    "else:\n",
    "    print (\"not palindrom\")\n"
   ]
  },
  {
   "cell_type": "code",
   "execution_count": 6,
   "id": "25317b38",
   "metadata": {},
   "outputs": [
    {
     "name": "stdout",
     "output_type": "stream",
     "text": [
      "enter a no 153\n",
      "no: is armstrong\n"
     ]
    }
   ],
   "source": [
    "# write a program to check wheter the no is amstrong no:\n",
    "#153:-1^3+5^3+3^3\n",
    "n=int(input('enter a no '))\n",
    "s=0\n",
    "tem=n\n",
    "while n>0:\n",
    "    r=n%10\n",
    "    s=s+r**3\n",
    "    n=n//10\n",
    "if s==tem:\n",
    "    print(\"no: is armstrong\")\n",
    "else:\n",
    "    print (\"not armstrong\")\n"
   ]
  },
  {
   "cell_type": "code",
   "execution_count": 7,
   "id": "63a039e2",
   "metadata": {},
   "outputs": [
    {
     "name": "stdout",
     "output_type": "stream",
     "text": [
      "enter a no 153\n",
      "3\n",
      "5\n",
      "1\n"
     ]
    }
   ],
   "source": [
    "# write a program to print its individual digits on separate line.\n",
    "n=int(input('enter a no '))\n",
    "s=0\n",
    "tem=n\n",
    "while n>0:\n",
    "    r=n%10\n",
    "    print(r)\n",
    "    n=n//10\n"
   ]
  },
  {
   "cell_type": "code",
   "execution_count": 8,
   "id": "0f741671",
   "metadata": {},
   "outputs": [
    {
     "name": "stdout",
     "output_type": "stream",
     "text": [
      "enter a no 153\n",
      "1\n",
      "5\n",
      "3\n"
     ]
    }
   ],
   "source": [
    "n=int(input('enter a no '))\n",
    "s=0\n",
    "tem=n\n",
    "while n>0:# reversing the no:\n",
    "    r=n%10\n",
    "    s=s*10+r\n",
    "    n=n//10\n",
    "while s>0:# extracting its individual digits.\n",
    "    r=s%10\n",
    "    print(r)\n",
    "    s=s//10\n"
   ]
  },
  {
   "cell_type": "code",
   "execution_count": 10,
   "id": "4358a075",
   "metadata": {},
   "outputs": [
    {
     "name": "stdout",
     "output_type": "stream",
     "text": [
      "enter a no 153\n",
      "one\n",
      "five\n",
      "three\n"
     ]
    }
   ],
   "source": [
    "# program to print the character of individual digits.\n",
    "n=int(input('enter a no '))\n",
    "s=0\n",
    "tem=n\n",
    "while n>0:# reversing the no:\n",
    "    r=n%10\n",
    "    s=s*10+r\n",
    "    n=n//10\n",
    "while s>0:# extracting its individual digits.\n",
    "    r=s%10\n",
    "    if r==1:\n",
    "        print('one')\n",
    "    elif r==2:\n",
    "        print('two')\n",
    "    elif r==3:\n",
    "        print('three')\n",
    "    elif r==4:\n",
    "        print('four')\n",
    "    elif r==5:\n",
    "        print('five')\n",
    "    elif r==6:\n",
    "        print('six')\n",
    "    elif r==7:\n",
    "        print('seven')\n",
    "    elif r==8:\n",
    "        print('eight')\n",
    "    elif r==9:\n",
    "        print('nine') \n",
    "    else:\n",
    "        print('zero')\n",
    "        \n",
    "    s=s//10"
   ]
  },
  {
   "cell_type": "code",
   "execution_count": 13,
   "id": "3413f1a5",
   "metadata": {},
   "outputs": [
    {
     "name": "stdout",
     "output_type": "stream",
     "text": [
      "enter a no 0\n",
      "1\n"
     ]
    }
   ],
   "source": [
    "# program to print its factorial:\n",
    "n=int(input('enter a no '))\n",
    "fac=1\n",
    "tem=n\n",
    "while n>0:\n",
    "    fac=n*fac\n",
    "    n-=1\n",
    "print(fac)    \n",
    "    \n",
    "    "
   ]
  },
  {
   "cell_type": "code",
   "execution_count": 16,
   "id": "9311c592",
   "metadata": {},
   "outputs": [
    {
     "name": "stdout",
     "output_type": "stream",
     "text": [
      "enter a no: 7\n",
      "0 1 1 2 3 5 8 "
     ]
    }
   ],
   "source": [
    "# program to print fibonacci\n",
    "n=int(input( \"enter a no: \"))\n",
    "a=0\n",
    "b=1\n",
    "i=0\n",
    "print(a,end=\" \")\n",
    "print(b,end=\" \")\n",
    "while i<(n-2):\n",
    "    c=a+b\n",
    "    print(c,end=\" \")\n",
    "    a=b\n",
    "    b=c    \n",
    "    i+=1"
   ]
  },
  {
   "cell_type": "code",
   "execution_count": 2,
   "id": "d41c4d9e",
   "metadata": {},
   "outputs": [
    {
     "name": "stdout",
     "output_type": "stream",
     "text": [
      "Enter a No:60\n",
      "60 C is 140.0 in Fahrenheit\n",
      "Enter a No:45\n",
      "45 F is 7 in Celsius\n"
     ]
    }
   ],
   "source": [
    "''' Write a Python program to convert temperatures to and from\n",
    "celsius, fahrenheit.\n",
    "[ Formula : c/5 = f-32/9 [ where c = temperature in celsius\n",
    "and f = temperature in fahrenheit ]#f=c\\5*9+32\n",
    "Expected Output :\n",
    "60°C is 140 in Fahrenheit\n",
    "45°F is 7 in Celsius'''\n",
    "c=int(input('Enter a No:'))\n",
    "f=((9*c)/5)+32\n",
    "print(str(c)+\" C \"+'is '+str(f)+' in'+' Fahrenheit')\n",
    "f=int(input('Enter a No:'))\n",
    "c=int(((f-32)*5)/9)\n",
    "print(str(f)+\" F \"+'is '+str(c)+' in'+' Celsius')\n"
   ]
  },
  {
   "cell_type": "code",
   "execution_count": 1,
   "id": "f2c77b15",
   "metadata": {},
   "outputs": [
    {
     "name": "stdout",
     "output_type": "stream",
     "text": [
      "enter a no:5\n",
      "enter a no:8\n",
      "enter a no:9\n",
      "enter a no:7\n",
      "Well guessed\n"
     ]
    }
   ],
   "source": [
    "'''3. Write a Python program to guess a number between 1 to 9.\n",
    "Note : User is prompted to enter a guess. If the user guesses\n",
    "wrong then the prompt appears again until the guess is\n",
    "correct, on successful guess, user will get a \"Well guessed!\"\n",
    "message, and the program will exit'''\n",
    "n=int(input(\"enter a no:\"))\n",
    "while True:\n",
    "    n=int(input(\"enter a no:\"))\n",
    "    if(n==7):\n",
    "        print(\"Well guessed\")\n",
    "        break"
   ]
  },
  {
   "cell_type": "code",
   "execution_count": 4,
   "id": "941f013d",
   "metadata": {},
   "outputs": [
    {
     "name": "stdout",
     "output_type": "stream",
     "text": [
      "[1505, 1540, 1575, 1610, 1645, 1680, 1715, 1750, 1785, 1820, 1855, 1890, 1925, 1960, 1995, 2030, 2065, 2100, 2135, 2170, 2205, 2240, 2275, 2310, 2345, 2380, 2415, 2450, 2485, 2520, 2555, 2590, 2625, 2660, 2695]\n"
     ]
    }
   ],
   "source": [
    "'''\n",
    "Write a Python program to find those numbers which are\n",
    "divisible by 7 and multiple of 5, between 1500 and 2700 (both\n",
    "included)'''\n",
    "list=[]\n",
    "for i in range(1500,2701):\n",
    "    if i%7==0 and i%5==0:\n",
    "        list.append(i)\n",
    "print(list)        "
   ]
  },
  {
   "cell_type": "code",
   "execution_count": 6,
   "id": "e00b528f",
   "metadata": {},
   "outputs": [
    {
     "name": "stdout",
     "output_type": "stream",
     "text": [
      "Number of even numbers :  4\n",
      "Number of odd numbers :  5\n"
     ]
    }
   ],
   "source": [
    "'''6. Write a Python program to count the number of even and odd\n",
    "numbers from a series of numbers.\n",
    "Sample numbers : numbers = (1, 2, 3, 4, 5, 6, 7, 8, 9)\n",
    "Expected Output :\n",
    "Number of even numbers : 5\n",
    "Number of odd numbers : 4'''\n",
    "numbers = (1, 2, 3, 4, 5, 6, 7, 8, 9)\n",
    "even_count=0\n",
    "odd_count=0\n",
    "for i in numbers:\n",
    "    if i%2==0:\n",
    "        even_count+=1\n",
    "    else:    \n",
    "        odd_count+=1\n",
    "print(\"Number of even numbers : \",even_count)\n",
    "\n",
    "print(\"Number of odd numbers : \",odd_count)        \n",
    "        \n",
    "        "
   ]
  },
  {
   "cell_type": "code",
   "execution_count": 8,
   "id": "30752523",
   "metadata": {},
   "outputs": [
    {
     "name": "stdout",
     "output_type": "stream",
     "text": [
      "1452 datatype <class 'int'>\n",
      "11.23 datatype <class 'float'>\n",
      "(1+2j) datatype <class 'complex'>\n",
      "True datatype <class 'bool'>\n",
      "w3resource datatype <class 'str'>\n",
      "(0, -1) datatype <class 'tuple'>\n",
      "[5, 12] datatype <class 'list'>\n",
      "{'class': 'V', 'section': 'A'} datatype <class 'dict'>\n"
     ]
    }
   ],
   "source": [
    "'''7. Write a Python program that prints each item and its\n",
    "corresponding type from the following list.\n",
    "Sample List : datalist = [1452, 11.23, 1+2j, True,\n",
    "'w3resource', (0, -1), [5, 12], {\"class\":'V', \"section\":'A'}]'''\n",
    "datalist = [1452, 11.23, 1+2j, True,\n",
    "'w3resource', (0, -1), [5, 12], {\"class\":'V', \"section\":'A'}]\n",
    "for i in datalist:\n",
    "    print(i,'datatype',type(i))"
   ]
  },
  {
   "cell_type": "code",
   "execution_count": 12,
   "id": "08085628",
   "metadata": {},
   "outputs": [
    {
     "name": "stdout",
     "output_type": "stream",
     "text": [
      "0 1 2 4 5 "
     ]
    }
   ],
   "source": [
    "''' 8. Write a Python program that prints all the numbers from 0\n",
    "to 6 except 3 and 6.\n",
    "Note : Use 'continue' statement.\n",
    "Expected Output : 0 1 2 4 5\n",
    "'''\n",
    "for i in range(7):\n",
    "    if(i==3 or i==6):\n",
    "        continue\n",
    "     \n",
    "    else:\n",
    "        print(i,end=\" \")"
   ]
  },
  {
   "cell_type": "code",
   "execution_count": 3,
   "id": "0e99df11",
   "metadata": {},
   "outputs": [
    {
     "name": "stdout",
     "output_type": "stream",
     "text": [
      "enter a no:9\n",
      "1 1 2 3 5 8 13 21 34 "
     ]
    }
   ],
   "source": [
    "'''Write a Python program to get the Fibonacci series between\n",
    "0 to 50.\n",
    "Expected Output : 1 1 2 3 5 8 13 21 34'''\n",
    "n=int(input('enter a no:'))\n",
    "a=1\n",
    "b=1\n",
    "c=0\n",
    "print(a,end=' ')\n",
    "print(b,end=' ')\n",
    "while (n-2)>=1:\n",
    "    c=a+b\n",
    "    print(c,end=' ')\n",
    "    a=b\n",
    "    b=c\n",
    "    n-=1\n",
    "    \n",
    "    "
   ]
  },
  {
   "cell_type": "code",
   "execution_count": 4,
   "id": "103fa8b4",
   "metadata": {},
   "outputs": [
    {
     "name": "stdout",
     "output_type": "stream",
     "text": [
      "Row:3\n",
      "Column:4\n",
      "[[0, 0, 0, 0], [0, 1, 2, 3], [0, 2, 4, 6]]\n"
     ]
    }
   ],
   "source": [
    "'''11. Write a Python program which takes two digits m (row) and\n",
    "n (column) as input and generates a two-dimensional array.\n",
    "The element value in the i-th row and j-th column of the\n",
    "array should be i*j.\n",
    "Note :\n",
    "i = 0,1.., m-1\n",
    "j = 0,1, n-1.\n",
    "Test Data : Rows = 3, Columns = 4\n",
    "Expected Result : [[0, 0, 0, 0], [0, 1, 2, 3], [0, 2, 4, 6]\n",
    "'''                \n",
    "m=int(input(\"Row:\"))\n",
    "n=int(input(\"Column:\"))\n",
    "matrix=[[0 for col in range(n)] for row in range(m)]\n",
    "for row in range(m):\n",
    "    for col in range(n):\n",
    "        matrix[row][col]=row*col\n",
    "print(matrix)\n"
   ]
  },
  {
   "cell_type": "code",
   "execution_count": 7,
   "id": "4ad0e764",
   "metadata": {},
   "outputs": [
    {
     "data": {
      "text/plain": [
       "[0, 0, 0, 0]"
      ]
     },
     "execution_count": 7,
     "metadata": {},
     "output_type": "execute_result"
    }
   ],
   "source": [
    "[0 for col in range(n)]\n",
    "#[[0 for col in range(3)] for row in range(4)]"
   ]
  },
  {
   "cell_type": "markdown",
   "id": "2b8dc9ba",
   "metadata": {},
   "source": [
    "# Matrix"
   ]
  },
  {
   "cell_type": "code",
   "execution_count": 2,
   "id": "77f8a5ff",
   "metadata": {},
   "outputs": [
    {
     "name": "stdout",
     "output_type": "stream",
     "text": [
      "1 1\t1 2\t1 3\t\n",
      "2 1\t2 2\t2 3\t\n",
      "3 1\t3 2\t3 3\t\n"
     ]
    }
   ],
   "source": [
    "i=1\n",
    "while i<=3:\n",
    "    j=1\n",
    "    while j<=3:\n",
    "        print(i,j,end=\"\\t\")\n",
    "        j+=1\n",
    "    print()   \n",
    "    i+=1\n",
    "        \n",
    "        "
   ]
  },
  {
   "cell_type": "code",
   "execution_count": 9,
   "id": "eea62093",
   "metadata": {},
   "outputs": [
    {
     "name": "stdout",
     "output_type": "stream",
     "text": [
      "*\n",
      "**\n",
      "***\n",
      "****\n",
      "*****\n"
     ]
    }
   ],
   "source": [
    "'''\n",
    "*\n",
    "**\n",
    "***\n",
    "****\n",
    "*****\n",
    "'''\n",
    "i=1\n",
    "while i<=5:\n",
    "    j=1\n",
    "    while j<=i:\n",
    "        print(\"*\",end='')\n",
    "        j+=1\n",
    "    print()\n",
    "    i+=1\n"
   ]
  },
  {
   "cell_type": "code",
   "execution_count": 1,
   "id": "d1d4d654",
   "metadata": {},
   "outputs": [
    {
     "name": "stdout",
     "output_type": "stream",
     "text": [
      "1 \n",
      "1 2 \n",
      "1 2 3 \n",
      "1 2 3 4 \n",
      "1 2 3 4 5 \n"
     ]
    }
   ],
   "source": [
    "'''\n",
    "1\n",
    "1 2\n",
    "1 2 3\n",
    "1 2 3 4\n",
    "1 2 3 4 5\n",
    "'''\n",
    "i=1\n",
    "while i<=5:\n",
    "    j=1\n",
    "    while j<=i:\n",
    "        print(j,end=\" \")\n",
    "        j+=1\n",
    "    print() \n",
    "    i+=1    "
   ]
  },
  {
   "cell_type": "code",
   "execution_count": 2,
   "id": "e8aa4279",
   "metadata": {},
   "outputs": [
    {
     "name": "stdout",
     "output_type": "stream",
     "text": [
      "1 \n",
      "2 2 \n",
      "3 3 3 \n",
      "4 4 4 4 \n",
      "5 5 5 5 5 \n"
     ]
    }
   ],
   "source": [
    "'''\n",
    "1\n",
    "2 2\n",
    "3 3 3\n",
    "4 4 4 4\n",
    "5 5 5 5 5\n",
    "'''\n",
    "i=1\n",
    "while i<=5:\n",
    "    j=1\n",
    "    while j<=i:\n",
    "        print(i,end=\" \")\n",
    "        j+=1\n",
    "    print() \n",
    "    i+=1    "
   ]
  },
  {
   "cell_type": "code",
   "execution_count": 9,
   "id": "df2a3715",
   "metadata": {
    "scrolled": true
   },
   "outputs": [
    {
     "name": "stdout",
     "output_type": "stream",
     "text": [
      "1 2 3 4 5 \n",
      "1 2 3 4 \n",
      "1 2 3 \n",
      "1 2 \n",
      "1 \n"
     ]
    }
   ],
   "source": [
    "'''\n",
    "1 2 3 4 5\n",
    "1 2 3 4\n",
    "1 2 3\n",
    "1 2\n",
    "1\n",
    "'''\n",
    "i=5\n",
    "while i>=1:\n",
    "    j=1\n",
    "    while j<=i:\n",
    "        print(j,end=\" \")\n",
    "        j+=1\n",
    "    print() \n",
    "    i=i-1    "
   ]
  },
  {
   "cell_type": "code",
   "execution_count": 10,
   "id": "bfaa2090",
   "metadata": {},
   "outputs": [
    {
     "name": "stdout",
     "output_type": "stream",
     "text": [
      "5 5 5 5 5 \n",
      "4 4 4 4 \n",
      "3 3 3 \n",
      "2 2 \n",
      "1 \n"
     ]
    }
   ],
   "source": [
    "'''\n",
    "1 2 3 4 5\n",
    "1 2 3 4\n",
    "1 2 3\n",
    "1 2\n",
    "1\n",
    "'''\n",
    "i=5\n",
    "while i>=1:\n",
    "    j=1\n",
    "    while j<=i:\n",
    "        print(i,end=\" \")\n",
    "        j+=1\n",
    "    print() \n",
    "    i=i-1    "
   ]
  },
  {
   "cell_type": "code",
   "execution_count": 20,
   "id": "dbf43f33",
   "metadata": {},
   "outputs": [
    {
     "name": "stdout",
     "output_type": "stream",
     "text": [
      "1 1 1 1 1 \n",
      "2 2 2 2 \n",
      "3 3 3 \n",
      "4 4 \n",
      "5 \n"
     ]
    }
   ],
   "source": [
    "i=1\n",
    "n=5\n",
    "while i<=5:\n",
    "    j=1\n",
    "    while j<=n:\n",
    "        print(i,end=\" \")\n",
    "        j+=1\n",
    "    print() \n",
    "    n=n-1\n",
    "    i=i+1    "
   ]
  },
  {
   "cell_type": "code",
   "execution_count": 21,
   "id": "90dfbb74",
   "metadata": {},
   "outputs": [
    {
     "name": "stdout",
     "output_type": "stream",
     "text": [
      "5 5 5 5 5 \n",
      "4 4 4 4 \n",
      "3 3 3 \n",
      "2 2 \n",
      "1 \n"
     ]
    }
   ],
   "source": [
    "i=5\n",
    "n=5\n",
    "while i>=1:\n",
    "    j=1\n",
    "    while j<=n:\n",
    "        print(i,end=\" \")\n",
    "        j+=1\n",
    "    print() \n",
    "    n=n-1\n",
    "    i=i-1    "
   ]
  },
  {
   "cell_type": "code",
   "execution_count": 25,
   "id": "f44f9451",
   "metadata": {},
   "outputs": [
    {
     "name": "stdout",
     "output_type": "stream",
     "text": [
      "5 4 3 2 1 \n",
      "5 4 3 2 \n",
      "5 4 3 \n",
      "5 4 \n",
      "5 \n"
     ]
    }
   ],
   "source": [
    "i=1\n",
    "n=1\n",
    "while i<=5:\n",
    "    j=5\n",
    "    while j>=n:\n",
    "        print(j,end=\" \")\n",
    "        j=j-1\n",
    "    print() \n",
    "    n=n+1\n",
    "    i=i+1    "
   ]
  },
  {
   "cell_type": "code",
   "execution_count": null,
   "id": "2de83e33",
   "metadata": {},
   "outputs": [],
   "source": [
    "i=1\n",
    "n=5\n",
    "while i<=4:\n",
    "    j=1\n",
    "    while j<=:\n",
    "        print(j,end=\" \")\n",
    "        j=j+1\n",
    "    print() \n",
    "    n=n-1\n",
    "    i=i+1    "
   ]
  },
  {
   "cell_type": "code",
   "execution_count": 24,
   "id": "8c94fc00",
   "metadata": {},
   "outputs": [
    {
     "name": "stdout",
     "output_type": "stream",
     "text": [
      "5 \n",
      "5 4 \n",
      "5 4 3 \n",
      "5 4 3 2 \n",
      "5 4 3 2 1 \n"
     ]
    }
   ],
   "source": [
    "i=1\n",
    "n=5\n",
    "while i<=5:\n",
    "    j=5\n",
    "    while j>=n:\n",
    "        print(j,end=\" \")\n",
    "        j=j-1\n",
    "    print() \n",
    "    n=n-1\n",
    "    i=i+1    "
   ]
  },
  {
   "cell_type": "code",
   "execution_count": 7,
   "id": "e21be885",
   "metadata": {
    "scrolled": true
   },
   "outputs": [
    {
     "name": "stdout",
     "output_type": "stream",
     "text": [
      "\t\t\t\t*\t\n",
      "\t\t\t*\t*\t\n",
      "\t\t*\t*\t*\t\n",
      "\t*\t*\t*\t*\t\n",
      "*\t*\t*\t*\t*\t\n"
     ]
    }
   ],
   "source": [
    "i=1\n",
    "n=5\n",
    "while i<=5:\n",
    "    j=1\n",
    "    while j<=n-1:\n",
    "        print(end='\\t')\n",
    "        j=j+1\n",
    "    n=n-1\n",
    "    k=1\n",
    "    while k<=i:\n",
    "        print('*',end=\"\\t\")\n",
    "        k=k+1\n",
    "    i=i+1\n",
    "    print()\n",
    "    "
   ]
  },
  {
   "cell_type": "code",
   "execution_count": 8,
   "id": "992bd974",
   "metadata": {},
   "outputs": [
    {
     "name": "stdout",
     "output_type": "stream",
     "text": [
      "    * \n",
      "   * * \n",
      "  * * * \n",
      " * * * * \n",
      "* * * * * \n"
     ]
    }
   ],
   "source": [
    "i=1\n",
    "n=5\n",
    "while i<=5:\n",
    "    j=1\n",
    "    while j<=n-1:\n",
    "        print(end=' ')\n",
    "        j=j+1\n",
    "    n=n-1\n",
    "    k=1\n",
    "    while k<=i:\n",
    "        print('*',end=\" \")\n",
    "        k=k+1\n",
    "    i=i+1\n",
    "    print()\n",
    "    "
   ]
  },
  {
   "cell_type": "markdown",
   "id": "027f1976",
   "metadata": {},
   "source": [
    "# List"
   ]
  },
  {
   "cell_type": "code",
   "execution_count": 32,
   "id": "0d6b7255",
   "metadata": {},
   "outputs": [
    {
     "data": {
      "text/plain": [
       "[4, 3, 3]"
      ]
     },
     "execution_count": 32,
     "metadata": {},
     "output_type": "execute_result"
    }
   ],
   "source": [
    "a=[1,2,3,3,4,5,6,7,7,8,9,10,22]\n",
    "a[4:1:-1]"
   ]
  },
  {
   "cell_type": "code",
   "execution_count": 29,
   "id": "fabec3b1",
   "metadata": {},
   "outputs": [
    {
     "data": {
      "text/plain": [
       "[]"
      ]
     },
     "execution_count": 29,
     "metadata": {},
     "output_type": "execute_result"
    }
   ],
   "source": [
    "a[0:0]"
   ]
  },
  {
   "cell_type": "code",
   "execution_count": 13,
   "id": "b983330c",
   "metadata": {},
   "outputs": [],
   "source": [
    "# reverse the list."
   ]
  },
  {
   "cell_type": "code",
   "execution_count": 9,
   "id": "79ad5548",
   "metadata": {},
   "outputs": [],
   "source": [
    "l=[7,8,9,4,5]\n",
    "l.reverse()"
   ]
  },
  {
   "cell_type": "code",
   "execution_count": 10,
   "id": "c88ad1e8",
   "metadata": {},
   "outputs": [
    {
     "data": {
      "text/plain": [
       "[5, 4, 9, 8, 7]"
      ]
     },
     "execution_count": 10,
     "metadata": {},
     "output_type": "execute_result"
    }
   ],
   "source": [
    "l"
   ]
  },
  {
   "cell_type": "code",
   "execution_count": 11,
   "id": "92a186e6",
   "metadata": {},
   "outputs": [
    {
     "data": {
      "text/plain": [
       "[7, 8, 9, 4, 5]"
      ]
     },
     "execution_count": 11,
     "metadata": {},
     "output_type": "execute_result"
    }
   ],
   "source": [
    "l[::-1]"
   ]
  },
  {
   "cell_type": "code",
   "execution_count": 12,
   "id": "92cc3d8f",
   "metadata": {},
   "outputs": [
    {
     "data": {
      "text/plain": [
       "[5, 4, 9, 8, 7]"
      ]
     },
     "execution_count": 12,
     "metadata": {},
     "output_type": "execute_result"
    }
   ],
   "source": [
    "l"
   ]
  },
  {
   "cell_type": "markdown",
   "id": "235b78f8",
   "metadata": {},
   "source": [
    "#List Methods"
   ]
  },
  {
   "cell_type": "code",
   "execution_count": 14,
   "id": "1eb6896d",
   "metadata": {},
   "outputs": [
    {
     "data": {
      "text/plain": [
       "int"
      ]
     },
     "execution_count": 14,
     "metadata": {},
     "output_type": "execute_result"
    }
   ],
   "source": [
    "type(i)"
   ]
  },
  {
   "cell_type": "code",
   "execution_count": 15,
   "id": "fcf04a89",
   "metadata": {},
   "outputs": [],
   "source": [
    "l.append(0)"
   ]
  },
  {
   "cell_type": "code",
   "execution_count": 16,
   "id": "eedbe069",
   "metadata": {},
   "outputs": [
    {
     "data": {
      "text/plain": [
       "[5, 4, 9, 8, 7, 0]"
      ]
     },
     "execution_count": 16,
     "metadata": {},
     "output_type": "execute_result"
    }
   ],
   "source": [
    "l"
   ]
  },
  {
   "cell_type": "code",
   "execution_count": 17,
   "id": "e06e8a39",
   "metadata": {},
   "outputs": [],
   "source": [
    "l.insert(2,786)"
   ]
  },
  {
   "cell_type": "code",
   "execution_count": 18,
   "id": "25bd816d",
   "metadata": {},
   "outputs": [
    {
     "data": {
      "text/plain": [
       "[5, 4, 786, 9, 8, 7, 0]"
      ]
     },
     "execution_count": 18,
     "metadata": {},
     "output_type": "execute_result"
    }
   ],
   "source": [
    "l"
   ]
  },
  {
   "cell_type": "code",
   "execution_count": 19,
   "id": "e44baffe",
   "metadata": {},
   "outputs": [],
   "source": [
    "l.sort()"
   ]
  },
  {
   "cell_type": "code",
   "execution_count": 20,
   "id": "3b5c57fd",
   "metadata": {},
   "outputs": [
    {
     "data": {
      "text/plain": [
       "[0, 4, 5, 7, 8, 9, 786]"
      ]
     },
     "execution_count": 20,
     "metadata": {},
     "output_type": "execute_result"
    }
   ],
   "source": [
    "l"
   ]
  },
  {
   "cell_type": "code",
   "execution_count": 22,
   "id": "f6f82a0a",
   "metadata": {},
   "outputs": [
    {
     "data": {
      "text/plain": [
       "7"
      ]
     },
     "execution_count": 22,
     "metadata": {},
     "output_type": "execute_result"
    }
   ],
   "source": [
    "l.pop(2)"
   ]
  },
  {
   "cell_type": "code",
   "execution_count": 24,
   "id": "96bf178c",
   "metadata": {},
   "outputs": [
    {
     "name": "stdout",
     "output_type": "stream",
     "text": [
      "Help on class list in module builtins:\n",
      "\n",
      "class list(object)\n",
      " |  list(iterable=(), /)\n",
      " |  \n",
      " |  Built-in mutable sequence.\n",
      " |  \n",
      " |  If no argument is given, the constructor creates a new empty list.\n",
      " |  The argument must be an iterable if specified.\n",
      " |  \n",
      " |  Methods defined here:\n",
      " |  \n",
      " |  __add__(self, value, /)\n",
      " |      Return self+value.\n",
      " |  \n",
      " |  __contains__(self, key, /)\n",
      " |      Return key in self.\n",
      " |  \n",
      " |  __delitem__(self, key, /)\n",
      " |      Delete self[key].\n",
      " |  \n",
      " |  __eq__(self, value, /)\n",
      " |      Return self==value.\n",
      " |  \n",
      " |  __ge__(self, value, /)\n",
      " |      Return self>=value.\n",
      " |  \n",
      " |  __getattribute__(self, name, /)\n",
      " |      Return getattr(self, name).\n",
      " |  \n",
      " |  __getitem__(...)\n",
      " |      x.__getitem__(y) <==> x[y]\n",
      " |  \n",
      " |  __gt__(self, value, /)\n",
      " |      Return self>value.\n",
      " |  \n",
      " |  __iadd__(self, value, /)\n",
      " |      Implement self+=value.\n",
      " |  \n",
      " |  __imul__(self, value, /)\n",
      " |      Implement self*=value.\n",
      " |  \n",
      " |  __init__(self, /, *args, **kwargs)\n",
      " |      Initialize self.  See help(type(self)) for accurate signature.\n",
      " |  \n",
      " |  __iter__(self, /)\n",
      " |      Implement iter(self).\n",
      " |  \n",
      " |  __le__(self, value, /)\n",
      " |      Return self<=value.\n",
      " |  \n",
      " |  __len__(self, /)\n",
      " |      Return len(self).\n",
      " |  \n",
      " |  __lt__(self, value, /)\n",
      " |      Return self<value.\n",
      " |  \n",
      " |  __mul__(self, value, /)\n",
      " |      Return self*value.\n",
      " |  \n",
      " |  __ne__(self, value, /)\n",
      " |      Return self!=value.\n",
      " |  \n",
      " |  __repr__(self, /)\n",
      " |      Return repr(self).\n",
      " |  \n",
      " |  __reversed__(self, /)\n",
      " |      Return a reverse iterator over the list.\n",
      " |  \n",
      " |  __rmul__(self, value, /)\n",
      " |      Return value*self.\n",
      " |  \n",
      " |  __setitem__(self, key, value, /)\n",
      " |      Set self[key] to value.\n",
      " |  \n",
      " |  __sizeof__(self, /)\n",
      " |      Return the size of the list in memory, in bytes.\n",
      " |  \n",
      " |  append(self, object, /)\n",
      " |      Append object to the end of the list.\n",
      " |  \n",
      " |  clear(self, /)\n",
      " |      Remove all items from list.\n",
      " |  \n",
      " |  copy(self, /)\n",
      " |      Return a shallow copy of the list.\n",
      " |  \n",
      " |  count(self, value, /)\n",
      " |      Return number of occurrences of value.\n",
      " |  \n",
      " |  extend(self, iterable, /)\n",
      " |      Extend list by appending elements from the iterable.\n",
      " |  \n",
      " |  index(self, value, start=0, stop=9223372036854775807, /)\n",
      " |      Return first index of value.\n",
      " |      \n",
      " |      Raises ValueError if the value is not present.\n",
      " |  \n",
      " |  insert(self, index, object, /)\n",
      " |      Insert object before index.\n",
      " |  \n",
      " |  pop(self, index=-1, /)\n",
      " |      Remove and return item at index (default last).\n",
      " |      \n",
      " |      Raises IndexError if list is empty or index is out of range.\n",
      " |  \n",
      " |  remove(self, value, /)\n",
      " |      Remove first occurrence of value.\n",
      " |      \n",
      " |      Raises ValueError if the value is not present.\n",
      " |  \n",
      " |  reverse(self, /)\n",
      " |      Reverse *IN PLACE*.\n",
      " |  \n",
      " |  sort(self, /, *, key=None, reverse=False)\n",
      " |      Sort the list in ascending order and return None.\n",
      " |      \n",
      " |      The sort is in-place (i.e. the list itself is modified) and stable (i.e. the\n",
      " |      order of two equal elements is maintained).\n",
      " |      \n",
      " |      If a key function is given, apply it once to each list item and sort them,\n",
      " |      ascending or descending, according to their function values.\n",
      " |      \n",
      " |      The reverse flag can be set to sort in descending order.\n",
      " |  \n",
      " |  ----------------------------------------------------------------------\n",
      " |  Static methods defined here:\n",
      " |  \n",
      " |  __new__(*args, **kwargs) from builtins.type\n",
      " |      Create and return a new object.  See help(type) for accurate signature.\n",
      " |  \n",
      " |  ----------------------------------------------------------------------\n",
      " |  Data and other attributes defined here:\n",
      " |  \n",
      " |  __hash__ = None\n",
      "\n"
     ]
    }
   ],
   "source": [
    "help(list)"
   ]
  },
  {
   "cell_type": "code",
   "execution_count": 25,
   "id": "8264e0af",
   "metadata": {},
   "outputs": [
    {
     "name": "stdout",
     "output_type": "stream",
     "text": [
      "Help on class dict in module builtins:\n",
      "\n",
      "class dict(object)\n",
      " |  dict() -> new empty dictionary\n",
      " |  dict(mapping) -> new dictionary initialized from a mapping object's\n",
      " |      (key, value) pairs\n",
      " |  dict(iterable) -> new dictionary initialized as if via:\n",
      " |      d = {}\n",
      " |      for k, v in iterable:\n",
      " |          d[k] = v\n",
      " |  dict(**kwargs) -> new dictionary initialized with the name=value pairs\n",
      " |      in the keyword argument list.  For example:  dict(one=1, two=2)\n",
      " |  \n",
      " |  Built-in subclasses:\n",
      " |      StgDict\n",
      " |  \n",
      " |  Methods defined here:\n",
      " |  \n",
      " |  __contains__(self, key, /)\n",
      " |      True if the dictionary has the specified key, else False.\n",
      " |  \n",
      " |  __delitem__(self, key, /)\n",
      " |      Delete self[key].\n",
      " |  \n",
      " |  __eq__(self, value, /)\n",
      " |      Return self==value.\n",
      " |  \n",
      " |  __ge__(self, value, /)\n",
      " |      Return self>=value.\n",
      " |  \n",
      " |  __getattribute__(self, name, /)\n",
      " |      Return getattr(self, name).\n",
      " |  \n",
      " |  __getitem__(...)\n",
      " |      x.__getitem__(y) <==> x[y]\n",
      " |  \n",
      " |  __gt__(self, value, /)\n",
      " |      Return self>value.\n",
      " |  \n",
      " |  __init__(self, /, *args, **kwargs)\n",
      " |      Initialize self.  See help(type(self)) for accurate signature.\n",
      " |  \n",
      " |  __iter__(self, /)\n",
      " |      Implement iter(self).\n",
      " |  \n",
      " |  __le__(self, value, /)\n",
      " |      Return self<=value.\n",
      " |  \n",
      " |  __len__(self, /)\n",
      " |      Return len(self).\n",
      " |  \n",
      " |  __lt__(self, value, /)\n",
      " |      Return self<value.\n",
      " |  \n",
      " |  __ne__(self, value, /)\n",
      " |      Return self!=value.\n",
      " |  \n",
      " |  __repr__(self, /)\n",
      " |      Return repr(self).\n",
      " |  \n",
      " |  __reversed__(self, /)\n",
      " |      Return a reverse iterator over the dict keys.\n",
      " |  \n",
      " |  __setitem__(self, key, value, /)\n",
      " |      Set self[key] to value.\n",
      " |  \n",
      " |  __sizeof__(...)\n",
      " |      D.__sizeof__() -> size of D in memory, in bytes\n",
      " |  \n",
      " |  clear(...)\n",
      " |      D.clear() -> None.  Remove all items from D.\n",
      " |  \n",
      " |  copy(...)\n",
      " |      D.copy() -> a shallow copy of D\n",
      " |  \n",
      " |  get(self, key, default=None, /)\n",
      " |      Return the value for key if key is in the dictionary, else default.\n",
      " |  \n",
      " |  items(...)\n",
      " |      D.items() -> a set-like object providing a view on D's items\n",
      " |  \n",
      " |  keys(...)\n",
      " |      D.keys() -> a set-like object providing a view on D's keys\n",
      " |  \n",
      " |  pop(...)\n",
      " |      D.pop(k[,d]) -> v, remove specified key and return the corresponding value.\n",
      " |      If key is not found, d is returned if given, otherwise KeyError is raised\n",
      " |  \n",
      " |  popitem(self, /)\n",
      " |      Remove and return a (key, value) pair as a 2-tuple.\n",
      " |      \n",
      " |      Pairs are returned in LIFO (last-in, first-out) order.\n",
      " |      Raises KeyError if the dict is empty.\n",
      " |  \n",
      " |  setdefault(self, key, default=None, /)\n",
      " |      Insert key with a value of default if key is not in the dictionary.\n",
      " |      \n",
      " |      Return the value for key if key is in the dictionary, else default.\n",
      " |  \n",
      " |  update(...)\n",
      " |      D.update([E, ]**F) -> None.  Update D from dict/iterable E and F.\n",
      " |      If E is present and has a .keys() method, then does:  for k in E: D[k] = E[k]\n",
      " |      If E is present and lacks a .keys() method, then does:  for k, v in E: D[k] = v\n",
      " |      In either case, this is followed by: for k in F:  D[k] = F[k]\n",
      " |  \n",
      " |  values(...)\n",
      " |      D.values() -> an object providing a view on D's values\n",
      " |  \n",
      " |  ----------------------------------------------------------------------\n",
      " |  Class methods defined here:\n",
      " |  \n",
      " |  fromkeys(iterable, value=None, /) from builtins.type\n",
      " |      Create a new dictionary with keys from iterable and values set to value.\n",
      " |  \n",
      " |  ----------------------------------------------------------------------\n",
      " |  Static methods defined here:\n",
      " |  \n",
      " |  __new__(*args, **kwargs) from builtins.type\n",
      " |      Create and return a new object.  See help(type) for accurate signature.\n",
      " |  \n",
      " |  ----------------------------------------------------------------------\n",
      " |  Data and other attributes defined here:\n",
      " |  \n",
      " |  __hash__ = None\n",
      "\n"
     ]
    }
   ],
   "source": [
    "help(dict)# to get the doucment"
   ]
  },
  {
   "cell_type": "markdown",
   "id": "aeb091e9",
   "metadata": {},
   "source": [
    "# Insert "
   ]
  },
  {
   "cell_type": "code",
   "execution_count": 26,
   "id": "64177b09",
   "metadata": {},
   "outputs": [
    {
     "data": {
      "text/plain": [
       "65"
      ]
     },
     "execution_count": 26,
     "metadata": {},
     "output_type": "execute_result"
    }
   ],
   "source": [
    "# to print ascii code\n",
    "ord('A')"
   ]
  },
  {
   "cell_type": "code",
   "execution_count": 27,
   "id": "a495c660",
   "metadata": {},
   "outputs": [
    {
     "data": {
      "text/plain": [
       "'A'"
      ]
     },
     "execution_count": 27,
     "metadata": {},
     "output_type": "execute_result"
    }
   ],
   "source": [
    "chr(65)"
   ]
  },
  {
   "cell_type": "code",
   "execution_count": null,
   "id": "19f363c2",
   "metadata": {},
   "outputs": [],
   "source": []
  }
 ],
 "metadata": {
  "kernelspec": {
   "display_name": "Python 3",
   "language": "python",
   "name": "python3"
  },
  "language_info": {
   "codemirror_mode": {
    "name": "ipython",
    "version": 3
   },
   "file_extension": ".py",
   "mimetype": "text/x-python",
   "name": "python",
   "nbconvert_exporter": "python",
   "pygments_lexer": "ipython3",
   "version": "3.8.8"
  }
 },
 "nbformat": 4,
 "nbformat_minor": 5
}
