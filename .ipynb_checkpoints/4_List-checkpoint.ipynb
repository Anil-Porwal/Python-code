{
 "cells": [
  {
   "cell_type": "markdown",
   "id": "fbc10c3d",
   "metadata": {},
   "source": [
    "<a href=\"https://www.cs.cmu.edu/~pattis/15-1XX/common/handouts/ascii.html\"> ASCII values</a>\n",
    "\n"
   ]
  },
  {
   "cell_type": "markdown",
   "id": "f300f640",
   "metadata": {},
   "source": [
    "# List functions"
   ]
  },
  {
   "cell_type": "code",
   "execution_count": 1,
   "id": "0dde8f7c",
   "metadata": {},
   "outputs": [
    {
     "name": "stdout",
     "output_type": "stream",
     "text": [
      "6\n"
     ]
    }
   ],
   "source": [
    "l = [10,20,4,5,63,7]\n",
    "\n",
    "print(len(l))"
   ]
  },
  {
   "cell_type": "code",
   "execution_count": 2,
   "id": "f60670c5",
   "metadata": {},
   "outputs": [
    {
     "name": "stdout",
     "output_type": "stream",
     "text": [
      "63\n"
     ]
    }
   ],
   "source": [
    "print(max(l))"
   ]
  },
  {
   "cell_type": "code",
   "execution_count": 3,
   "id": "12209126",
   "metadata": {},
   "outputs": [
    {
     "name": "stdout",
     "output_type": "stream",
     "text": [
      "4\n"
     ]
    }
   ],
   "source": [
    "print(min(l))"
   ]
  },
  {
   "cell_type": "code",
   "execution_count": 4,
   "id": "337e7b85",
   "metadata": {},
   "outputs": [
    {
     "name": "stdout",
     "output_type": "stream",
     "text": [
      "109\n"
     ]
    }
   ],
   "source": [
    "print(sum(l))"
   ]
  },
  {
   "cell_type": "code",
   "execution_count": 5,
   "id": "e8231e47",
   "metadata": {},
   "outputs": [
    {
     "ename": "TypeError",
     "evalue": "unsupported operand type(s) for +: 'int' and 'str'",
     "output_type": "error",
     "traceback": [
      "\u001b[1;31m---------------------------------------------------------------------------\u001b[0m",
      "\u001b[1;31mTypeError\u001b[0m                                 Traceback (most recent call last)",
      "\u001b[1;32m<ipython-input-5-f508be9b8e6a>\u001b[0m in \u001b[0;36m<module>\u001b[1;34m\u001b[0m\n\u001b[0;32m      1\u001b[0m \u001b[0ml\u001b[0m \u001b[1;33m=\u001b[0m \u001b[1;33m[\u001b[0m\u001b[1;36m1\u001b[0m\u001b[1;33m,\u001b[0m\u001b[1;36m2\u001b[0m\u001b[1;33m,\u001b[0m\u001b[1;36m3\u001b[0m\u001b[1;33m,\u001b[0m\u001b[1;36m4\u001b[0m\u001b[1;33m,\u001b[0m\u001b[1;34m'A'\u001b[0m\u001b[1;33m]\u001b[0m\u001b[1;33m\u001b[0m\u001b[1;33m\u001b[0m\u001b[0m\n\u001b[0;32m      2\u001b[0m \u001b[1;33m\u001b[0m\u001b[0m\n\u001b[1;32m----> 3\u001b[1;33m \u001b[0mprint\u001b[0m\u001b[1;33m(\u001b[0m\u001b[0msum\u001b[0m\u001b[1;33m(\u001b[0m\u001b[0ml\u001b[0m\u001b[1;33m)\u001b[0m\u001b[1;33m)\u001b[0m\u001b[1;33m\u001b[0m\u001b[1;33m\u001b[0m\u001b[0m\n\u001b[0m",
      "\u001b[1;31mTypeError\u001b[0m: unsupported operand type(s) for +: 'int' and 'str'"
     ]
    }
   ],
   "source": [
    "l = [1,2,3,4,'A']\n",
    "\n",
    "print(sum(l))"
   ]
  },
  {
   "cell_type": "code",
   "execution_count": 6,
   "id": "4c1d5776",
   "metadata": {},
   "outputs": [
    {
     "ename": "TypeError",
     "evalue": "unsupported operand type(s) for +: 'int' and 'str'",
     "output_type": "error",
     "traceback": [
      "\u001b[1;31m---------------------------------------------------------------------------\u001b[0m",
      "\u001b[1;31mTypeError\u001b[0m                                 Traceback (most recent call last)",
      "\u001b[1;32m<ipython-input-6-54b60a6fc51d>\u001b[0m in \u001b[0;36m<module>\u001b[1;34m\u001b[0m\n\u001b[0;32m      1\u001b[0m \u001b[0ml\u001b[0m \u001b[1;33m=\u001b[0m \u001b[1;33m[\u001b[0m\u001b[1;34m'A'\u001b[0m\u001b[1;33m,\u001b[0m \u001b[1;34m'B'\u001b[0m\u001b[1;33m]\u001b[0m\u001b[1;33m\u001b[0m\u001b[1;33m\u001b[0m\u001b[0m\n\u001b[1;32m----> 2\u001b[1;33m \u001b[0mprint\u001b[0m\u001b[1;33m(\u001b[0m\u001b[0msum\u001b[0m\u001b[1;33m(\u001b[0m\u001b[0ml\u001b[0m\u001b[1;33m)\u001b[0m\u001b[1;33m)\u001b[0m\u001b[1;33m\u001b[0m\u001b[1;33m\u001b[0m\u001b[0m\n\u001b[0m",
      "\u001b[1;31mTypeError\u001b[0m: unsupported operand type(s) for +: 'int' and 'str'"
     ]
    }
   ],
   "source": [
    "l = ['A', 'B']\n",
    "print(sum(l))"
   ]
  },
  {
   "cell_type": "code",
   "execution_count": 29,
   "id": "dbc4d00f",
   "metadata": {},
   "outputs": [
    {
     "name": "stdout",
     "output_type": "stream",
     "text": [
      "[3, 2, 1]\n",
      "[1, 2, 3]\n"
     ]
    }
   ],
   "source": [
    "l = [1,2,3]\n",
    "\n",
    "print(l[::-1])\n",
    "\n",
    "print(l)"
   ]
  },
  {
   "cell_type": "markdown",
   "id": "5a6f28c4",
   "metadata": {},
   "source": [
    "# List Methods"
   ]
  },
  {
   "cell_type": "markdown",
   "id": "a6f91358",
   "metadata": {},
   "source": [
    "#### append"
   ]
  },
  {
   "cell_type": "code",
   "execution_count": null,
   "id": "cb442e9e",
   "metadata": {},
   "outputs": [],
   "source": [
    "class list{\n",
    "    insert()\n",
    "    append()\n",
    "    \n",
    "}"
   ]
  },
  {
   "cell_type": "code",
   "execution_count": 8,
   "id": "7f13f755",
   "metadata": {},
   "outputs": [
    {
     "name": "stdout",
     "output_type": "stream",
     "text": [
      "<class 'list'>\n"
     ]
    }
   ],
   "source": [
    "n = [1,2,3]\n",
    "\n",
    "print(type(n))"
   ]
  },
  {
   "cell_type": "code",
   "execution_count": 9,
   "id": "04010e66",
   "metadata": {},
   "outputs": [
    {
     "ename": "IndexError",
     "evalue": "list assignment index out of range",
     "output_type": "error",
     "traceback": [
      "\u001b[1;31m---------------------------------------------------------------------------\u001b[0m",
      "\u001b[1;31mIndexError\u001b[0m                                Traceback (most recent call last)",
      "\u001b[1;32m<ipython-input-9-3053a9249c86>\u001b[0m in \u001b[0;36m<module>\u001b[1;34m\u001b[0m\n\u001b[1;32m----> 1\u001b[1;33m \u001b[0mn\u001b[0m\u001b[1;33m[\u001b[0m\u001b[1;36m3\u001b[0m\u001b[1;33m]\u001b[0m \u001b[1;33m=\u001b[0m \u001b[1;36m4\u001b[0m\u001b[1;33m\u001b[0m\u001b[1;33m\u001b[0m\u001b[0m\n\u001b[0m",
      "\u001b[1;31mIndexError\u001b[0m: list assignment index out of range"
     ]
    }
   ],
   "source": [
    "n[3] = 4"
   ]
  },
  {
   "cell_type": "code",
   "execution_count": 10,
   "id": "6d80c149",
   "metadata": {},
   "outputs": [
    {
     "ename": "NameError",
     "evalue": "name 'append' is not defined",
     "output_type": "error",
     "traceback": [
      "\u001b[1;31m---------------------------------------------------------------------------\u001b[0m",
      "\u001b[1;31mNameError\u001b[0m                                 Traceback (most recent call last)",
      "\u001b[1;32m<ipython-input-10-b407110f1542>\u001b[0m in \u001b[0;36m<module>\u001b[1;34m\u001b[0m\n\u001b[1;32m----> 1\u001b[1;33m \u001b[0mappend\u001b[0m\u001b[1;33m(\u001b[0m\u001b[1;36m5\u001b[0m\u001b[1;33m)\u001b[0m\u001b[1;33m\u001b[0m\u001b[1;33m\u001b[0m\u001b[0m\n\u001b[0m",
      "\u001b[1;31mNameError\u001b[0m: name 'append' is not defined"
     ]
    }
   ],
   "source": [
    "append(5)"
   ]
  },
  {
   "cell_type": "code",
   "execution_count": 11,
   "id": "0628e2a3",
   "metadata": {},
   "outputs": [
    {
     "name": "stdout",
     "output_type": "stream",
     "text": [
      "[1, 2, 3, 5]\n"
     ]
    }
   ],
   "source": [
    "n = [1,2,3]\n",
    "\n",
    "n.append(5)\n",
    "\n",
    "print(n)"
   ]
  },
  {
   "cell_type": "code",
   "execution_count": 12,
   "id": "4f5dd994",
   "metadata": {},
   "outputs": [
    {
     "name": "stdout",
     "output_type": "stream",
     "text": [
      "[1, 2, 3, 5, 'Bye']\n"
     ]
    }
   ],
   "source": [
    "n.append(\"Bye\")\n",
    "\n",
    "print(n)"
   ]
  },
  {
   "cell_type": "code",
   "execution_count": 13,
   "id": "64ec9935",
   "metadata": {},
   "outputs": [
    {
     "name": "stdout",
     "output_type": "stream",
     "text": [
      "5\n"
     ]
    }
   ],
   "source": [
    "print(len(n))"
   ]
  },
  {
   "cell_type": "code",
   "execution_count": 14,
   "id": "e5de2fb3",
   "metadata": {},
   "outputs": [
    {
     "name": "stdout",
     "output_type": "stream",
     "text": [
      "['Hi', 'Bye']\n"
     ]
    }
   ],
   "source": [
    "n = ['Hi']\n",
    "\n",
    "n.append('Bye')\n",
    "\n",
    "print(n)"
   ]
  },
  {
   "cell_type": "code",
   "execution_count": 15,
   "id": "8d594d62",
   "metadata": {},
   "outputs": [
    {
     "name": "stdout",
     "output_type": "stream",
     "text": [
      "Help on built-in function max in module builtins:\n",
      "\n",
      "max(...)\n",
      "    max(iterable, *[, default=obj, key=func]) -> value\n",
      "    max(arg1, arg2, *args, *[, key=func]) -> value\n",
      "    \n",
      "    With a single iterable argument, return its biggest item. The\n",
      "    default keyword-only argument specifies an object to return if\n",
      "    the provided iterable is empty.\n",
      "    With two or more arguments, return the largest argument.\n",
      "\n"
     ]
    }
   ],
   "source": [
    "help(max)"
   ]
  },
  {
   "cell_type": "code",
   "execution_count": 16,
   "id": "84485b76",
   "metadata": {
    "scrolled": true
   },
   "outputs": [
    {
     "name": "stdout",
     "output_type": "stream",
     "text": [
      "Help on class list in module builtins:\n",
      "\n",
      "class list(object)\n",
      " |  list(iterable=(), /)\n",
      " |  \n",
      " |  Built-in mutable sequence.\n",
      " |  \n",
      " |  If no argument is given, the constructor creates a new empty list.\n",
      " |  The argument must be an iterable if specified.\n",
      " |  \n",
      " |  Methods defined here:\n",
      " |  \n",
      " |  __add__(self, value, /)\n",
      " |      Return self+value.\n",
      " |  \n",
      " |  __contains__(self, key, /)\n",
      " |      Return key in self.\n",
      " |  \n",
      " |  __delitem__(self, key, /)\n",
      " |      Delete self[key].\n",
      " |  \n",
      " |  __eq__(self, value, /)\n",
      " |      Return self==value.\n",
      " |  \n",
      " |  __ge__(self, value, /)\n",
      " |      Return self>=value.\n",
      " |  \n",
      " |  __getattribute__(self, name, /)\n",
      " |      Return getattr(self, name).\n",
      " |  \n",
      " |  __getitem__(...)\n",
      " |      x.__getitem__(y) <==> x[y]\n",
      " |  \n",
      " |  __gt__(self, value, /)\n",
      " |      Return self>value.\n",
      " |  \n",
      " |  __iadd__(self, value, /)\n",
      " |      Implement self+=value.\n",
      " |  \n",
      " |  __imul__(self, value, /)\n",
      " |      Implement self*=value.\n",
      " |  \n",
      " |  __init__(self, /, *args, **kwargs)\n",
      " |      Initialize self.  See help(type(self)) for accurate signature.\n",
      " |  \n",
      " |  __iter__(self, /)\n",
      " |      Implement iter(self).\n",
      " |  \n",
      " |  __le__(self, value, /)\n",
      " |      Return self<=value.\n",
      " |  \n",
      " |  __len__(self, /)\n",
      " |      Return len(self).\n",
      " |  \n",
      " |  __lt__(self, value, /)\n",
      " |      Return self<value.\n",
      " |  \n",
      " |  __mul__(self, value, /)\n",
      " |      Return self*value.\n",
      " |  \n",
      " |  __ne__(self, value, /)\n",
      " |      Return self!=value.\n",
      " |  \n",
      " |  __repr__(self, /)\n",
      " |      Return repr(self).\n",
      " |  \n",
      " |  __reversed__(self, /)\n",
      " |      Return a reverse iterator over the list.\n",
      " |  \n",
      " |  __rmul__(self, value, /)\n",
      " |      Return value*self.\n",
      " |  \n",
      " |  __setitem__(self, key, value, /)\n",
      " |      Set self[key] to value.\n",
      " |  \n",
      " |  __sizeof__(self, /)\n",
      " |      Return the size of the list in memory, in bytes.\n",
      " |  \n",
      " |  append(self, object, /)\n",
      " |      Append object to the end of the list.\n",
      " |  \n",
      " |  clear(self, /)\n",
      " |      Remove all items from list.\n",
      " |  \n",
      " |  copy(self, /)\n",
      " |      Return a shallow copy of the list.\n",
      " |  \n",
      " |  count(self, value, /)\n",
      " |      Return number of occurrences of value.\n",
      " |  \n",
      " |  extend(self, iterable, /)\n",
      " |      Extend list by appending elements from the iterable.\n",
      " |  \n",
      " |  index(self, value, start=0, stop=9223372036854775807, /)\n",
      " |      Return first index of value.\n",
      " |      \n",
      " |      Raises ValueError if the value is not present.\n",
      " |  \n",
      " |  insert(self, index, object, /)\n",
      " |      Insert object before index.\n",
      " |  \n",
      " |  pop(self, index=-1, /)\n",
      " |      Remove and return item at index (default last).\n",
      " |      \n",
      " |      Raises IndexError if list is empty or index is out of range.\n",
      " |  \n",
      " |  remove(self, value, /)\n",
      " |      Remove first occurrence of value.\n",
      " |      \n",
      " |      Raises ValueError if the value is not present.\n",
      " |  \n",
      " |  reverse(self, /)\n",
      " |      Reverse *IN PLACE*.\n",
      " |  \n",
      " |  sort(self, /, *, key=None, reverse=False)\n",
      " |      Sort the list in ascending order and return None.\n",
      " |      \n",
      " |      The sort is in-place (i.e. the list itself is modified) and stable (i.e. the\n",
      " |      order of two equal elements is maintained).\n",
      " |      \n",
      " |      If a key function is given, apply it once to each list item and sort them,\n",
      " |      ascending or descending, according to their function values.\n",
      " |      \n",
      " |      The reverse flag can be set to sort in descending order.\n",
      " |  \n",
      " |  ----------------------------------------------------------------------\n",
      " |  Static methods defined here:\n",
      " |  \n",
      " |  __new__(*args, **kwargs) from builtins.type\n",
      " |      Create and return a new object.  See help(type) for accurate signature.\n",
      " |  \n",
      " |  ----------------------------------------------------------------------\n",
      " |  Data and other attributes defined here:\n",
      " |  \n",
      " |  __hash__ = None\n",
      "\n"
     ]
    }
   ],
   "source": [
    "help(list)"
   ]
  },
  {
   "cell_type": "markdown",
   "id": "cd31db6a",
   "metadata": {},
   "source": [
    "#### insert"
   ]
  },
  {
   "cell_type": "code",
   "execution_count": 17,
   "id": "ee3471c0",
   "metadata": {},
   "outputs": [
    {
     "name": "stdout",
     "output_type": "stream",
     "text": [
      "['Tu', 'Beer', 'Hai']\n"
     ]
    }
   ],
   "source": [
    "n = ['Tu', 'Hai']\n",
    "\n",
    "n.insert(1, 'Beer')\n",
    "\n",
    "print(n)"
   ]
  },
  {
   "cell_type": "code",
   "execution_count": 18,
   "id": "525921ae",
   "metadata": {},
   "outputs": [
    {
     "name": "stdout",
     "output_type": "stream",
     "text": [
      "7\n"
     ]
    }
   ],
   "source": [
    "n = [9,8,7,6,5]\n",
    "\n",
    "n.append(4)\n",
    "n.insert(2,11)\n",
    "\n",
    "print(len(n))"
   ]
  },
  {
   "cell_type": "code",
   "execution_count": 19,
   "id": "b0274fce",
   "metadata": {},
   "outputs": [
    {
     "name": "stdout",
     "output_type": "stream",
     "text": [
      "[9, 8, 11, 7, 6, 5, 4]\n"
     ]
    }
   ],
   "source": [
    "print(n)"
   ]
  },
  {
   "cell_type": "markdown",
   "id": "ede32064",
   "metadata": {},
   "source": [
    "#### index"
   ]
  },
  {
   "cell_type": "code",
   "execution_count": 20,
   "id": "c45b2b91",
   "metadata": {},
   "outputs": [
    {
     "name": "stdout",
     "output_type": "stream",
     "text": [
      "2\n"
     ]
    }
   ],
   "source": [
    "l = ['q','p','r']\n",
    "\n",
    "print(l.index('r'))"
   ]
  },
  {
   "cell_type": "code",
   "execution_count": 21,
   "id": "bddab4e9",
   "metadata": {},
   "outputs": [
    {
     "name": "stdout",
     "output_type": "stream",
     "text": [
      "0\n"
     ]
    }
   ],
   "source": [
    "print(l.index('q'))"
   ]
  },
  {
   "cell_type": "code",
   "execution_count": 22,
   "id": "956f7c63",
   "metadata": {},
   "outputs": [
    {
     "name": "stdout",
     "output_type": "stream",
     "text": [
      "1\n"
     ]
    }
   ],
   "source": [
    "x = l.index('p')\n",
    "print(x)"
   ]
  },
  {
   "cell_type": "code",
   "execution_count": null,
   "id": "ac11ed05",
   "metadata": {},
   "outputs": [],
   "source": [
    "print(l.index('A'))"
   ]
  },
  {
   "cell_type": "code",
   "execution_count": 23,
   "id": "06d25c3d",
   "metadata": {},
   "outputs": [
    {
     "name": "stdout",
     "output_type": "stream",
     "text": [
      "65\n"
     ]
    }
   ],
   "source": [
    "print(ord('A'))"
   ]
  },
  {
   "cell_type": "code",
   "execution_count": 24,
   "id": "ba8e354e",
   "metadata": {},
   "outputs": [
    {
     "data": {
      "text/plain": [
       "'A'"
      ]
     },
     "execution_count": 24,
     "metadata": {},
     "output_type": "execute_result"
    }
   ],
   "source": [
    "chr(65)"
   ]
  },
  {
   "cell_type": "markdown",
   "id": "14e5b810",
   "metadata": {},
   "source": [
    "#### count"
   ]
  },
  {
   "cell_type": "code",
   "execution_count": 25,
   "id": "eb5dff69",
   "metadata": {},
   "outputs": [
    {
     "name": "stdout",
     "output_type": "stream",
     "text": [
      "3\n"
     ]
    }
   ],
   "source": [
    "l = ['p', 'q','r','r','w','r','q']\n",
    "\n",
    "print(l.count('r'))"
   ]
  },
  {
   "cell_type": "code",
   "execution_count": 26,
   "id": "dd105483",
   "metadata": {},
   "outputs": [
    {
     "name": "stdout",
     "output_type": "stream",
     "text": [
      "0\n"
     ]
    }
   ],
   "source": [
    "print(l.count('a'))"
   ]
  },
  {
   "cell_type": "markdown",
   "id": "15eb6a05",
   "metadata": {},
   "source": [
    "#### reverse"
   ]
  },
  {
   "cell_type": "code",
   "execution_count": 27,
   "id": "c040692a",
   "metadata": {},
   "outputs": [
    {
     "name": "stdout",
     "output_type": "stream",
     "text": [
      "[5, 4, 3, 2, 1]\n"
     ]
    }
   ],
   "source": [
    "l = [1,2,3,4,5]\n",
    "\n",
    "l.reverse()\n",
    "\n",
    "print(l)"
   ]
  },
  {
   "cell_type": "code",
   "execution_count": 28,
   "id": "23c34133",
   "metadata": {},
   "outputs": [
    {
     "data": {
      "text/plain": [
       "[5, 4, 3, 2, 1]"
      ]
     },
     "execution_count": 28,
     "metadata": {},
     "output_type": "execute_result"
    }
   ],
   "source": [
    "l"
   ]
  },
  {
   "cell_type": "code",
   "execution_count": 30,
   "id": "0a49d1e9",
   "metadata": {},
   "outputs": [
    {
     "name": "stdout",
     "output_type": "stream",
     "text": [
      "[1]\n"
     ]
    }
   ],
   "source": [
    "l = [1,2,3]\n",
    "\n",
    "n = l[:1]\n",
    "\n",
    "print(n)"
   ]
  },
  {
   "cell_type": "markdown",
   "id": "88049591",
   "metadata": {},
   "source": [
    "**WAP to enter 5 elements from user and append them into a list and print the list elements on seperate line**"
   ]
  },
  {
   "cell_type": "code",
   "execution_count": 31,
   "id": "4da03322",
   "metadata": {},
   "outputs": [
    {
     "name": "stdout",
     "output_type": "stream",
     "text": [
      "Enter a Number: 10\n",
      "Enter a Number: 20\n",
      "Enter a Number: 30\n",
      "Enter a Number: 40\n",
      "Enter a Number: 50\n",
      "[10, 20, 30, 40, 50]\n",
      "10\n",
      "20\n",
      "30\n",
      "40\n",
      "50\n"
     ]
    }
   ],
   "source": [
    "l = []\n",
    "i = 0\n",
    "while i < 5:\n",
    "    n = int(input(\"Enter a Number: \"))\n",
    "    l.append(n)\n",
    "    i += 1\n",
    "\n",
    "print(l)\n",
    "\n",
    "i = 0\n",
    "while i < 5:\n",
    "    print(l[i])\n",
    "    i += 1"
   ]
  },
  {
   "cell_type": "markdown",
   "id": "8c4402a1",
   "metadata": {},
   "source": [
    "**WAP to enter 5 elements from user and print total and average of them**"
   ]
  },
  {
   "cell_type": "code",
   "execution_count": 32,
   "id": "480d1245",
   "metadata": {},
   "outputs": [
    {
     "name": "stdout",
     "output_type": "stream",
     "text": [
      "Enter a Number: 10\n",
      "Enter a Number: 20\n",
      "Enter a Number: 30\n",
      "Enter a Number: 40\n",
      "Enter a Number: 50\n",
      "[10, 20, 30, 40, 50]\n",
      "Total:  150\n",
      "Average:  30.0\n"
     ]
    }
   ],
   "source": [
    "l = []\n",
    "i = 0\n",
    "while i < 5:\n",
    "    n = int(input(\"Enter a Number: \"))\n",
    "    l.append(n)\n",
    "    i += 1\n",
    "\n",
    "print(l)\n",
    "\n",
    "print(\"Total: \", sum(l))\n",
    "\n",
    "print(\"Average: \", (sum(l)/len(l)) )"
   ]
  },
  {
   "cell_type": "markdown",
   "id": "8844a55f",
   "metadata": {},
   "source": [
    "**WAP to enter 5 elements from user and print sum of them without using sum function**"
   ]
  },
  {
   "cell_type": "code",
   "execution_count": null,
   "id": "d018cf74",
   "metadata": {},
   "outputs": [],
   "source": []
  },
  {
   "cell_type": "code",
   "execution_count": 33,
   "id": "6d4a2ae1",
   "metadata": {},
   "outputs": [],
   "source": [
    "a,b,*c,d = [1,2,3,4,5,6,7,78,8]"
   ]
  },
  {
   "cell_type": "code",
   "execution_count": 34,
   "id": "15a72214",
   "metadata": {},
   "outputs": [
    {
     "name": "stdout",
     "output_type": "stream",
     "text": [
      "[3, 4, 5, 6, 7, 78]\n"
     ]
    }
   ],
   "source": [
    "print(c)"
   ]
  },
  {
   "cell_type": "code",
   "execution_count": 35,
   "id": "422f706b",
   "metadata": {},
   "outputs": [
    {
     "name": "stdout",
     "output_type": "stream",
     "text": [
      "1\n",
      "2\n",
      "[3, 4, 5, 6, 7, 78]\n",
      "8\n"
     ]
    }
   ],
   "source": [
    "print(a)\n",
    "print(b)\n",
    "print(c)\n",
    "print(d)"
   ]
  },
  {
   "cell_type": "markdown",
   "id": "5f56f3a3",
   "metadata": {},
   "source": [
    "# Praciice Questions"
   ]
  },
  {
   "cell_type": "code",
   "execution_count": 2,
   "id": "bb060d80",
   "metadata": {},
   "outputs": [
    {
     "name": "stdout",
     "output_type": "stream",
     "text": [
      "enter the No: 7\n",
      "enter the No: 8\n",
      "enter the No: 9\n",
      "enter the No: 4\n",
      "enter the No: 5\n",
      "[7, 8, 9, 4, 5]\n",
      "sum 33\n"
     ]
    }
   ],
   "source": [
    "#1. Write a Python program to sum all the items in a list.\n",
    "i=0\n",
    "s=0\n",
    "l=[]\n",
    "while i<5 :\n",
    "    n=int(input('enter the No: '))\n",
    "    l.append(n)\n",
    "    s=s+n\n",
    "    i+=1\n",
    "print(l)    \n",
    "print('sum',s)\n",
    "\n",
    "    "
   ]
  },
  {
   "cell_type": "code",
   "execution_count": 4,
   "id": "1a098c32",
   "metadata": {},
   "outputs": [
    {
     "name": "stdout",
     "output_type": "stream",
     "text": [
      "enter the nO: 7\n",
      "enter the nO: 8\n",
      "enter the nO: 9\n",
      "enter the nO: 4\n",
      "enter the nO: 5\n",
      "[7, 8, 9, 4, 5]\n",
      "\n",
      "multiplication is : 10080\n"
     ]
    }
   ],
   "source": [
    "# 2. Write a Python program to multiplies all the items in a list\n",
    "l=[]\n",
    "i=0\n",
    "m=1\n",
    "while i<5 :\n",
    "    n=int(input(\"enter the nO: \"))\n",
    "    l.append(n)\n",
    "    m=m*n\n",
    "    i+=1\n",
    "print(l)\n",
    "print()\n",
    "print('multiplication is :',m)\n"
   ]
  },
  {
   "cell_type": "code",
   "execution_count": 5,
   "id": "42c1e5cf",
   "metadata": {},
   "outputs": [
    {
     "name": "stdout",
     "output_type": "stream",
     "text": [
      "enter the number: 45\n",
      "enter the number: 56\n",
      "enter the number: 12\n",
      "enter the number: 33\n",
      "enter the number: 89\n",
      "[45, 56, 12, 33, 89]\n",
      "\n",
      "max elements:  89\n"
     ]
    }
   ],
   "source": [
    "# 3. Write a Python program to get the largest number from a list.\n",
    "l=[]\n",
    "i=0\n",
    "while i<5:\n",
    "    n=int(input('enter the number: '))\n",
    "    l.append(n)\n",
    "    i+=1\n",
    "print(l)\n",
    "print()\n",
    "print('max elements: ',max(l))"
   ]
  },
  {
   "cell_type": "code",
   "execution_count": 6,
   "id": "30a52e07",
   "metadata": {},
   "outputs": [
    {
     "name": "stdout",
     "output_type": "stream",
     "text": [
      "enter the number: 45\n",
      "enter the number: 23\n",
      "enter the number: 12\n",
      "enter the number: 65\n",
      "enter the number: 91\n",
      "[45, 23, 12, 65, 91]\n",
      "\n",
      "The minimum element is:  12\n"
     ]
    }
   ],
   "source": [
    "# 4. Write a Python program to get the smallest number from a list.\n",
    "i=0\n",
    "l=[]\n",
    "while i<5:\n",
    "    n=int(input('enter the number: '))\n",
    "    l.append(n)\n",
    "    i+=1\n",
    "print(l)\n",
    "print()\n",
    "print('The minimum element is: ',min(l))"
   ]
  },
  {
   "cell_type": "code",
   "execution_count": null,
   "id": "618a6582",
   "metadata": {},
   "outputs": [],
   "source": [
    "# 5. Write a Python program to count the number of strings\n",
    "# where the string length is 2 or more and the first and last\n",
    "# character are same from a given list of strings.\n",
    "# Sample List : ['abc', 'xyz', 'aba', '1221']\n",
    "# Expected Result : 2\n"
   ]
  },
  {
   "cell_type": "code",
   "execution_count": 7,
   "id": "4a806e1f",
   "metadata": {},
   "outputs": [
    {
     "name": "stdout",
     "output_type": "stream",
     "text": [
      "list is empty\n"
     ]
    }
   ],
   "source": [
    "# 8. Write a Python program to check a list is empty or not.\n",
    "def enquiry (list):\n",
    "    if len(list)==0:\n",
    "        return True\n",
    "    else:\n",
    "        return False\n",
    "l=[]\n",
    "a=enquiry(l)\n",
    "if a==True:\n",
    "    print(\"list is empty\")\n",
    "else:\n",
    "    print('list is not empty')"
   ]
  },
  {
   "cell_type": "code",
   "execution_count": 9,
   "id": "8963ceaa",
   "metadata": {},
   "outputs": [
    {
     "name": "stdout",
     "output_type": "stream",
     "text": [
      "original list: \n",
      "[1, 2, 3, 5, 6]\n",
      "copied list: \n",
      "[1, 2, 3, 5, 6]\n"
     ]
    }
   ],
   "source": [
    "# 9. Write a Python program to clone or copy a list.\n",
    "def clone(or_list):\n",
    "    copy_lst=or_list\n",
    "    return copy_lst\n",
    "l_1=[1,2,3,5,6]\n",
    "l_2=clone(l_1)\n",
    "print('original list: ')\n",
    "print(l_1)\n",
    "print('copied list: ')\n",
    "print(l_2)\n",
    "\n"
   ]
  },
  {
   "cell_type": "code",
   "execution_count": 10,
   "id": "c515a417",
   "metadata": {},
   "outputs": [
    {
     "name": "stdout",
     "output_type": "stream",
     "text": [
      "[4, 5, 6, 7, 8, 9, 12, 1]\n"
     ]
    }
   ],
   "source": [
    "# 7. Write a Python program to remove duplicates from a list\n",
    "def remove_duplicate(l_1):\n",
    "    final_list=[]\n",
    "    for n in l_1:\n",
    "        if n not in final_list :\n",
    "            final_list.append(n)\n",
    "    return final_list        \n",
    "l_1=[4,5,6,7,8,9,12,5,4,5,7,1]\n",
    "Unique_list=remove_duplicate(l_1)\n",
    "print(Unique_list)"
   ]
  },
  {
   "cell_type": "code",
   "execution_count": 21,
   "id": "71ebda24",
   "metadata": {},
   "outputs": [
    {
     "name": "stdout",
     "output_type": "stream",
     "text": [
      "['Green', 'White', 'Black']\n"
     ]
    }
   ],
   "source": [
    "''' 12. Write a Python program to print a specified list after\n",
    "removing the 0th, 4th and 5th elements.\n",
    "Sample List : ['Red', 'Green', 'White', 'Black', 'Pink',\n",
    "'Yellow']\n",
    "Expected Output : ['Green', 'White', 'Black']\n",
    "'''\n",
    "def remove_element(list):\n",
    "    lst=[]\n",
    "    for i,n in enumerate(list):\n",
    "        if (i not in (0,4,5) ):\n",
    "            lst.append(n)\n",
    "    return lst   \n",
    "Sample_List =['Red', 'Green', 'White', 'Black', 'Pink','Yellow']\n",
    "ans_list=remove_element(Sample_List)   \n",
    "print(ans_list)    \n"
   ]
  },
  {
   "cell_type": "code",
   "execution_count": 16,
   "id": "95d1bdd0",
   "metadata": {},
   "outputs": [
    {
     "name": "stdout",
     "output_type": "stream",
     "text": [
      "['Green', 'White', 'Black']\n"
     ]
    }
   ],
   "source": [
    "color = ['Red', 'Green', 'White', 'Black', 'Pink', 'Yellow']\n",
    "color = [x for (i,x) in enumerate(color) if i not in (0,4,5)]\n",
    "print(color)\n"
   ]
  },
  {
   "cell_type": "code",
   "execution_count": 24,
   "id": "c055684c",
   "metadata": {},
   "outputs": [],
   "source": [
    "#  Write a Python program to generate a 3*4*6 3D array whose\n",
    "# each element is *.\n",
    "lst = [[ ['*' for col in range(3)] for col in range(4)] for row in range(6)]"
   ]
  },
  {
   "cell_type": "code",
   "execution_count": 25,
   "id": "29d9cfec",
   "metadata": {},
   "outputs": [
    {
     "data": {
      "text/plain": [
       "[[['*', '*', '*'], ['*', '*', '*'], ['*', '*', '*'], ['*', '*', '*']],\n",
       " [['*', '*', '*'], ['*', '*', '*'], ['*', '*', '*'], ['*', '*', '*']],\n",
       " [['*', '*', '*'], ['*', '*', '*'], ['*', '*', '*'], ['*', '*', '*']],\n",
       " [['*', '*', '*'], ['*', '*', '*'], ['*', '*', '*'], ['*', '*', '*']],\n",
       " [['*', '*', '*'], ['*', '*', '*'], ['*', '*', '*'], ['*', '*', '*']],\n",
       " [['*', '*', '*'], ['*', '*', '*'], ['*', '*', '*'], ['*', '*', '*']]]"
      ]
     },
     "execution_count": 25,
     "metadata": {},
     "output_type": "execute_result"
    }
   ],
   "source": [
    "lst"
   ]
  },
  {
   "cell_type": "code",
   "execution_count": 29,
   "id": "297654f4",
   "metadata": {},
   "outputs": [
    {
     "name": "stdout",
     "output_type": "stream",
     "text": [
      "[10, 4, 66] "
     ]
    }
   ],
   "source": [
    "# 14. Write a Python program to print the numbers of a\n",
    "#specified list after removing even numbers from it.\n",
    "list1 = [10, 21, 4, 45, 66, 93]\n",
    "new_list=[]\n",
    " \n",
    "# iterating each number in list\n",
    "for num in list1:\n",
    " \n",
    "    # checking condition\n",
    "    if num % 2 == 0:\n",
    "        new_list.append(num)\n",
    "print(new_list, end=\" \")"
   ]
  },
  {
   "cell_type": "code",
   "execution_count": 33,
   "id": "e944c88a",
   "metadata": {},
   "outputs": [
    {
     "name": "stdout",
     "output_type": "stream",
     "text": [
      "[66, 45, 93, 4, 21, 10]\n"
     ]
    }
   ],
   "source": [
    "#15. Write a Python program to shuffle and print a specified\n",
    "list\n",
    "import random\n",
    "list1 = [10, 21, 4, 45, 66, 93]\n",
    "random.shuffle(list1)\n",
    "print(list1)"
   ]
  },
  {
   "cell_type": "code",
   "execution_count": 34,
   "id": "500a0be5",
   "metadata": {},
   "outputs": [
    {
     "name": "stdout",
     "output_type": "stream",
     "text": [
      "list has common element\n"
     ]
    }
   ],
   "source": [
    "# 11. Write a Python function that takes two lists and returns\n",
    "# True if they have at least one common member.\n",
    "def common(lst1,lst2):\n",
    "    for i in lst1:\n",
    "        for j in lst2:\n",
    "            if i==j:\n",
    "                return True\n",
    "    \n",
    "l_1=[1,4,2,3,5]\n",
    "l_2=[2,5,6,7,8]\n",
    "result=common(l_1,l_2)\n",
    "if result==True:\n",
    "    print('list has common element')\n",
    "else:\n",
    "    print('list has no common element')\n",
    "    "
   ]
  },
  {
   "cell_type": "code",
   "execution_count": 35,
   "id": "532d0ae6",
   "metadata": {},
   "outputs": [
    {
     "name": "stdout",
     "output_type": "stream",
     "text": [
      "[2, 5]\n"
     ]
    }
   ],
   "source": [
    "def common(lst1,lst2):\n",
    "    nw_lst=[]\n",
    "    for i in lst1:\n",
    "        for j in lst2:\n",
    "            if i==j:\n",
    "                nw_lst.append(i)\n",
    "    return nw_lst          \n",
    "    \n",
    "l_1=[1,4,2,3,5]\n",
    "l_2=[2,5,6,7,8]\n",
    "result=common(l_1,l_2)\n",
    "print(result)"
   ]
  },
  {
   "cell_type": "code",
   "execution_count": 37,
   "id": "4960b656",
   "metadata": {},
   "outputs": [
    {
     "name": "stdout",
     "output_type": "stream",
     "text": [
      "enter a no: \n",
      "4\n",
      "\n",
      "['edfdsf', 'trefad']\n"
     ]
    }
   ],
   "source": [
    "#10. Write a Python program to find the list of words that are\n",
    "# longer than n from a given list of words.\n",
    "n=int(input('enter a no: \\n'))\n",
    "lst=['asdf','edfdsf','dfef','trefad']\n",
    "new_lst=[]\n",
    "for x in lst:\n",
    "    if len(x)>n:\n",
    "        new_lst.append(x)\n",
    "print()        \n",
    "print(new_lst)        \n",
    "        \n",
    "    "
   ]
  },
  {
   "cell_type": "code",
   "execution_count": 38,
   "id": "e7570701",
   "metadata": {},
   "outputs": [
    {
     "name": "stdout",
     "output_type": "stream",
     "text": [
      "2\n"
     ]
    }
   ],
   "source": [
    "# 5. Write a Python program to count the number of strings\n",
    "#where the string length is 2 or more and the first and last\n",
    "#character are same from a given list of strings.\n",
    "#Sample List : ['abc', 'xyz', 'aba', '1221']\n",
    "#Expected Result : 2\n",
    "Sample_List = ['abc', 'xyz', 'aba', '1221']\n",
    "count=0\n",
    "for x in  Sample_List:\n",
    "    if (len(x)>=2 and x[0]==x[len(x)-1]):\n",
    "        count=count+1\n",
    "print(count)        "
   ]
  },
  {
   "cell_type": "code",
   "execution_count": null,
   "id": "74dfff86",
   "metadata": {},
   "outputs": [],
   "source": []
  },
  {
   "cell_type": "code",
   "execution_count": null,
   "id": "bd8b1466",
   "metadata": {},
   "outputs": [],
   "source": []
  }
 ],
 "metadata": {
  "kernelspec": {
   "display_name": "Python 3",
   "language": "python",
   "name": "python3"
  },
  "language_info": {
   "codemirror_mode": {
    "name": "ipython",
    "version": 3
   },
   "file_extension": ".py",
   "mimetype": "text/x-python",
   "name": "python",
   "nbconvert_exporter": "python",
   "pygments_lexer": "ipython3",
   "version": "3.8.8"
  }
 },
 "nbformat": 4,
 "nbformat_minor": 5
}
